{
 "cells": [
  {
   "cell_type": "markdown",
   "id": "164a6070-9bc2-4f46-a016-d25ac2141f22",
   "metadata": {},
   "source": [
    "In this example, we will convert the csv files into HDF5 through the import utility provided by ExeTera.\n",
    "First, you can see we have two csv files and one json file:"
   ]
  },
  {
   "cell_type": "code",
   "execution_count": null,
   "id": "95c1811f-027a-4fab-9936-084ef6ca0a62",
   "metadata": {
    "tags": []
   },
   "outputs": [],
   "source": [
    "!cat users.csv"
   ]
  },
  {
   "cell_type": "code",
   "execution_count": null,
   "id": "6ee656fa-fce7-44b8-9ad9-c4761d78d9d3",
   "metadata": {
    "tags": []
   },
   "outputs": [],
   "source": [
    "!cat assessments.csv"
   ]
  },
  {
   "cell_type": "code",
   "execution_count": null,
   "id": "2e1d9bc3-76cd-48f1-9ed3-94636da04f76",
   "metadata": {},
   "outputs": [],
   "source": [
    "!cat user_assessments.json"
   ]
  },
  {
   "cell_type": "markdown",
   "id": "f96b4e31-ca85-4321-8276-ca9121672500",
   "metadata": {},
   "source": [
    "Then we have two methods to call the import, 1) from python function, and 2) from script:\n",
    "<br>\n",
    "(make sure you have exetera installed already, or you can do pip install exetera)"
   ]
  },
  {
   "cell_type": "code",
   "execution_count": null,
   "id": "68f76d88-8f88-468e-b3b7-8e40bc5dbe17",
   "metadata": {},
   "outputs": [],
   "source": [
    "#1)Import csv to hdf5 through import_with_schema function\n",
    "\n",
    "import exetera\n",
    "\n",
    "from exetera.io import importer\n",
    "from exetera.core import session\n",
    "from datetime import datetime, timezone\n",
    "\n",
    "with session.Session() as s:\n",
    "    importer.import_with_schema(\n",
    "        session=s,\n",
    "        timestamp=str(datetime.now(timezone.utc)),\n",
    "        dataset_alias=\"UserAssessments\",\n",
    "        dataset_filename=\"user_assessments.hdf5\",\n",
    "        schema_file=\"user_assessments.json\",\n",
    "        files={\"users\": \"users.csv\", \"assessments\":\"assessments.csv\"},\n",
    "        overwrite=True,\n",
    "    )"
   ]
  },
  {
   "cell_type": "code",
   "execution_count": null,
   "id": "2eff68d6-f15b-4213-8807-3085cb425170",
   "metadata": {},
   "outputs": [],
   "source": [
    "#2)Import csv to hdf5 through command line, make sure you have \n",
    "#add the ExeTera/exetera/bin/ to system path\n",
    "%%bash\n",
    "\n",
    "exetera import -w -s user_assessments.json -i \"users:users.csv, assessments:assessments.csv\" -o user_assessments.hdf5\n",
    "ls -lh"
   ]
  },
  {
   "cell_type": "markdown",
   "id": "3c707511-9866-49d4-8a4c-d56ecb9830ad",
   "metadata": {},
   "source": [
    "After either of the command, you should have a HDF5 file available:"
   ]
  },
  {
   "cell_type": "code",
   "execution_count": null,
   "id": "2cdf941c-be2d-4cd4-ac85-25606b2a5a19",
   "metadata": {},
   "outputs": [],
   "source": [
    "!ls *hdf5"
   ]
  }
 ],
 "metadata": {
  "kernelspec": {
   "display_name": "Python 3",
   "language": "python",
   "name": "python3"
  },
  "language_info": {
   "codemirror_mode": {
    "name": "ipython",
    "version": 3
   },
   "file_extension": ".py",
   "mimetype": "text/x-python",
   "name": "python",
   "nbconvert_exporter": "python",
   "pygments_lexer": "ipython3",
   "version": "3.8.5"
  }
 },
 "nbformat": 4,
 "nbformat_minor": 5
}
