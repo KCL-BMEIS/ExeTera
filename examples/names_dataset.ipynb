{
 "cells": [
  {
   "cell_type": "markdown",
   "id": "1a705726-3e3b-4bcc-bd37-b250362ec242",
   "metadata": {},
   "source": [
    "# Names Dataset with ExeTera\n",
    "\n",
    "This notebook will demonstrate using ExeTera to load a dataset of given names from the [\"Gender by Name Data Set\"](https://archive.ics.uci.edu/ml/datasets/Gender+by+Name).\n",
    "\n",
    "Each row has four fields:\n",
    "* Name: String\n",
    "* Gender: M/F (category/string)\n",
    "* Count: Integer, total number of instances of this name in the dataset\n",
    "* Probability: Float, chance of a randomly drawn person from the population having this name\n",
    "\n",
    "The first thing to do is download the data in csv format:"
   ]
  },
  {
   "cell_type": "code",
   "execution_count": 1,
   "id": "6792631b-1d2c-4c2d-afe7-22d0cb7fb013",
   "metadata": {},
   "outputs": [],
   "source": [
    "from urllib.request import urlretrieve\n",
    "\n",
    "SRC_URL = \"https://archive.ics.uci.edu/ml/machine-learning-databases/00591/name_gender_dataset.csv\"\n",
    "FILENAME = \"name_gender_dataset.csv\"\n",
    "\n",
    "_ = urlretrieve(SRC_URL, FILENAME)"
   ]
  },
  {
   "cell_type": "markdown",
   "id": "7dd8f789-a986-4114-8607-f8afe2333a51",
   "metadata": {},
   "source": [
    "A schema is then written to define the structure of the dataset. This has only one dataset called `name_gender_dataset` with the four above described fields:"
   ]
  },
  {
   "cell_type": "code",
   "execution_count": 2,
   "id": "7a05567a-e8f1-4a81-a7b8-3591ddde3700",
   "metadata": {},
   "outputs": [
    {
     "name": "stdout",
     "output_type": "stream",
     "text": [
      "Overwriting name_gender_dataset_schema.json\n"
     ]
    }
   ],
   "source": [
    "%%writefile name_gender_dataset_schema.json\n",
    "\n",
    "{\n",
    "  \"exetera\": {\n",
    "    \"version\": \"1.0.0\"\n",
    "  },\n",
    "  \"schema\": {\n",
    "    \"name_gender_dataset\": {\n",
    "      \"primary_keys\": [\n",
    "        \"Name\"\n",
    "      ],\n",
    "      \"fields\": {\n",
    "        \"Name\": {\n",
    "          \"field_type\": \"string\"\n",
    "        },\n",
    "        \"Gender\": {\n",
    "          \"field_type\": \"categorical\",\n",
    "          \"categorical\": {\n",
    "            \"value_type\": \"int8\",\n",
    "            \"strings_to_values\": {\n",
    "              \"M\": 1,\n",
    "              \"F\": 2\n",
    "            }\n",
    "          }\n",
    "        },\n",
    "        \"Count\": {\n",
    "          \"field_type\": \"numeric\",\n",
    "          \"value_type\": \"int32\"\n",
    "        },\n",
    "        \"Probability\": {\n",
    "          \"field_type\": \"numeric\",\n",
    "          \"value_type\": \"float32\"\n",
    "        }   \n",
    "      }\n",
    "    }\n",
    "  }\n",
    "}"
   ]
  },
  {
   "cell_type": "markdown",
   "id": "2560a4d1-66c5-4c26-ad76-64659cda3ce6",
   "metadata": {},
   "source": [
    "The data from the csv can now be imported into ExeTera to produce the hdf5 file. The equivalent can be done with the `exetera import` command:"
   ]
  },
  {
   "cell_type": "code",
   "execution_count": 3,
   "id": "9094591a-3e58-4789-9926-b2d8f039a7bc",
   "metadata": {},
   "outputs": [
    {
     "name": "stdout",
     "output_type": "stream",
     "text": [
      "read_file_using_fast_csv_reader: 1 chunks, 147269 accumulated_written_rows parsed in 1.520482063293457s\n",
      "completed in 1.5250701904296875 seconds\n",
      "Total time 1.5253255367279053s\n"
     ]
    }
   ],
   "source": [
    "from exetera.io import importer\n",
    "from exetera.core import session\n",
    "from datetime import datetime, timezone\n",
    "\n",
    "with session.Session() as s:\n",
    "    importer.import_with_schema(\n",
    "        session=s,\n",
    "        timestamp=str(datetime.now(timezone.utc)),\n",
    "        dataset_name=\"NameGender\",\n",
    "        dest_file_name=\"name_gender_dataset.hdf5\",\n",
    "        schema_file=\"name_gender_dataset_schema.json\",\n",
    "        files={\"name_gender_dataset\": \"name_gender_dataset.csv\"},\n",
    "        overwrite=True,\n",
    "    )"
   ]
  },
  {
   "cell_type": "markdown",
   "id": "0235412c-a342-4fb1-8f67-d410f8983251",
   "metadata": {},
   "source": [
    "The contents of the data can now be loaded and queried:"
   ]
  },
  {
   "cell_type": "code",
   "execution_count": 4,
   "id": "15d9bbbe-8536-454f-b6ee-56d09c80946e",
   "metadata": {},
   "outputs": [
    {
     "name": "stdout",
     "output_type": "stream",
     "text": [
      "['name_gender_dataset']\n",
      "Frame type and length: <class 'exetera.core.dataframe.HDF5DataFrame'> 8\n",
      "Count NumericField 147269\n",
      "Count_valid NumericField 147269\n",
      "Gender CategoricalField 147269\n",
      "Name IndexedStringField 147269\n",
      "Probability NumericField 147269\n",
      "Probability_valid NumericField 147269\n",
      "j_valid_from TimestampField 147269\n",
      "j_valid_to TimestampField 147269\n",
      "<class 'exetera.core.fields.IndexedStringField'> 147269\n",
      "['James', 'John', 'Robert', 'Michael', 'William', 'Mary', 'David', 'Joseph', 'Richard', 'Charles', 'Thomas', 'Christopher', 'Daniel', 'Matthew', 'Elizabeth', 'Patricia', 'Jennifer', 'Anthony', 'George', 'Linda', 'Barbara', 'Donald', 'Paul', 'Mark', 'Andrew', 'Steven', 'Kenneth', 'Edward', 'Joshua', 'Margaret']\n"
     ]
    }
   ],
   "source": [
    "with session.Session() as s:\n",
    "    dat = s.open_dataset(\"name_gender_dataset.hdf5\", \"r\", \"dataset\")  # load the dataset\n",
    "\n",
    "    print(list(dat))  # list the frames\n",
    "\n",
    "    frame = dat[\"name_gender_dataset\"]  # pull out a frame\n",
    "\n",
    "    print(\"Frame type and length:\", type(frame), len(frame))\n",
    "\n",
    "    for name, col in frame.columns.items():\n",
    "        print(name, type(col).__name__, len(col))\n",
    "\n",
    "    field = frame[\"Name\"]  # pull out a field of the frame\n",
    "\n",
    "    print(type(field), len(field))\n",
    "\n",
    "    print(field.data[:30])"
   ]
  }
 ],
 "metadata": {
  "kernelspec": {
   "display_name": "Python [conda env:root] *",
   "language": "python",
   "name": "conda-root-py"
  },
  "language_info": {
   "codemirror_mode": {
    "name": "ipython",
    "version": 3
   },
   "file_extension": ".py",
   "mimetype": "text/x-python",
   "name": "python",
   "nbconvert_exporter": "python",
   "pygments_lexer": "ipython3",
   "version": "3.7.7"
  }
 },
 "nbformat": 4,
 "nbformat_minor": 5
}
