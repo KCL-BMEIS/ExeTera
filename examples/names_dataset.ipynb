{
 "cells": [
  {
   "cell_type": "markdown",
   "id": "1a705726-3e3b-4bcc-bd37-b250362ec242",
   "metadata": {},
   "source": [
    "# Names Dataset with ExeTera\n",
    "\n",
    "This notebook will demonstrate using ExeTera to load a dataset of given names from the [\"Gender by Name Data Set\"](https://archive.ics.uci.edu/ml/datasets/Gender+by+Name).\n",
    "\n",
    "Each row has four fields:\n",
    "* Name: String\n",
    "* Gender: M/F (category/string)\n",
    "* Count: Integer, total number of instances of this name in the dataset\n",
    "* Probability: Float, chance of a randomly drawn person from the population having this name\n"
   ]
  },
  {
   "cell_type": "code",
   "execution_count": 1,
   "id": "6792631b-1d2c-4c2d-afe7-22d0cb7fb013",
   "metadata": {},
   "outputs": [],
   "source": [
    "import sys\n",
    "sys.path.insert(0,\"..\")\n",
    "\n",
    "\n",
    "from urllib.request import urlretrieve\n",
    "\n",
    "SRC_URL = \"https://archive.ics.uci.edu/ml/machine-learning-databases/00591/name_gender_dataset.csv\"\n",
    "FILENAME = \"name_gender_dataset.csv\"\n",
    "\n",
    "_ = urlretrieve(SRC_URL, FILENAME)"
   ]
  },
  {
   "cell_type": "code",
   "execution_count": 2,
   "id": "7a05567a-e8f1-4a81-a7b8-3591ddde3700",
   "metadata": {},
   "outputs": [
    {
     "name": "stdout",
     "output_type": "stream",
     "text": [
      "Overwriting name_gender_dataset_schema.json\n"
     ]
    }
   ],
   "source": [
    "%%writefile name_gender_dataset_schema.json\n",
    "\n",
    "{\n",
    "  \"exetera\": {\n",
    "    \"version\": \"1.0.0\"\n",
    "  },\n",
    "  \"schema\": {\n",
    "    \"name_gender_dataset\": {\n",
    "      \"primary_keys\": [\n",
    "        \"Name\"\n",
    "      ],\n",
    "      \"fields\": {\n",
    "        \"Name\": {\n",
    "          \"field_type\": \"string\"\n",
    "        },\n",
    "        \"Gender\": {\n",
    "          \"field_type\": \"categorical\",\n",
    "          \"categorical\": {\n",
    "            \"value_type\": \"int8\",\n",
    "            \"strings_to_values\": {\n",
    "              \"M\": 1,\n",
    "              \"F\": 2\n",
    "            }\n",
    "          }\n",
    "        },\n",
    "        \"Count\": {\n",
    "          \"field_type\": \"numeric\",\n",
    "          \"value_type\": \"int32\"\n",
    "        },\n",
    "        \"Probability\": {\n",
    "          \"field_type\": \"numeric\",\n",
    "          \"value_type\": \"float32\"\n",
    "        }   \n",
    "      }\n",
    "    }\n",
    "  }\n",
    "}"
   ]
  },
  {
   "cell_type": "code",
   "execution_count": 3,
   "id": "9094591a-3e58-4789-9926-b2d8f039a7bc",
   "metadata": {},
   "outputs": [
    {
     "name": "stdout",
     "output_type": "stream",
     "text": [
      "read_file_using_fast_csv_reader: 1 chunks, 147269 accumulated_written_rows parsed in 1.1086580753326416s\n",
      "completed in 1.1138238906860352 seconds\n",
      "Total time 1.1140117645263672s\n"
     ]
    }
   ],
   "source": [
    "from exetera.io import importer\n",
    "from exetera.core import session\n",
    "from datetime import datetime, timezone\n",
    "\n",
    "with session.Session() as s:\n",
    "    importer.import_with_schema(\n",
    "        session=s,\n",
    "        timestamp=str(datetime.now(timezone.utc)),\n",
    "        dataset_name=\"NameGender\",\n",
    "        dest_file_name=\"name_gender_dataset.hdf5\",\n",
    "        schema_file=\"name_gender_dataset_schema.json\",\n",
    "        files={\"name_gender_dataset\": \"name_gender_dataset.csv\"},\n",
    "        overwrite=True,\n",
    "    )"
   ]
  }
 ],
 "metadata": {
  "kernelspec": {
   "display_name": "Python [conda env:root] *",
   "language": "python",
   "name": "conda-root-py"
  },
  "language_info": {
   "codemirror_mode": {
    "name": "ipython",
    "version": 3
   },
   "file_extension": ".py",
   "mimetype": "text/x-python",
   "name": "python",
   "nbconvert_exporter": "python",
   "pygments_lexer": "ipython3",
   "version": "3.7.7"
  }
 },
 "nbformat": 4,
 "nbformat_minor": 5
}
