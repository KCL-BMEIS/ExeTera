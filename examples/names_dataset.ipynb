{
 "cells": [
  {
   "cell_type": "markdown",
   "id": "1a705726-3e3b-4bcc-bd37-b250362ec242",
   "metadata": {},
   "source": [
    "# Names Dataset with ExeTera\n",
    "\n",
    "This notebook will demonstrate using ExeTera to load a dataset of given names from the [\"Gender by Name Data Set\"](https://archive.ics.uci.edu/ml/datasets/Gender+by+Name).\n",
    "\n",
    "Each row has four fields:\n",
    "* Name: String\n",
    "* Gender: M/F (category/string)\n",
    "* Count: Integer, total number of instances of this name in the dataset\n",
    "* Probability: Float, chance of a randomly drawn person from the population having this name\n"
   ]
  },
  {
   "cell_type": "code",
   "execution_count": 1,
   "id": "6792631b-1d2c-4c2d-afe7-22d0cb7fb013",
   "metadata": {},
   "outputs": [],
   "source": [
    "import sys\n",
    "sys.path.insert(0,\"..\")\n",
    "\n",
    "\n",
    "from urllib.request import urlretrieve\n",
    "\n",
    "SRC_URL = \"https://archive.ics.uci.edu/ml/machine-learning-databases/00591/name_gender_dataset.csv\"\n",
    "FILENAME = \"name_gender_dataset.csv\"\n",
    "\n",
    "_ = urlretrieve(SRC_URL, FILENAME)"
   ]
  },
  {
   "cell_type": "code",
   "execution_count": 2,
   "id": "7a05567a-e8f1-4a81-a7b8-3591ddde3700",
   "metadata": {},
   "outputs": [
    {
     "name": "stdout",
     "output_type": "stream",
     "text": [
      "Overwriting name_gender_dataset_schema.json\n"
     ]
    }
   ],
   "source": [
    "%%writefile name_gender_dataset_schema.json\n",
    "\n",
    "{\n",
    "  \"exetera\": {\n",
    "    \"version\": \"1.0.0\"\n",
    "  },\n",
    "  \"schema\": {\n",
    "    \"name_gender_dataset\": {\n",
    "      \"primary_keys\": [\n",
    "        \"Name\"\n",
    "      ],\n",
    "      \"fields\": {\n",
    "        \"Name\": {\n",
    "          \"field_type\": \"string\"\n",
    "        },\n",
    "        \"Gender\": {\n",
    "          \"field_type\": \"categorical\",\n",
    "          \"categorical\": {\n",
    "            \"value_type\": \"int8\",\n",
    "            \"strings_to_values\": {\n",
    "              \"M\": 1,\n",
    "              \"F\": 2\n",
    "            }\n",
    "          }\n",
    "        },\n",
    "        \"Count\": {\n",
    "          \"field_type\": \"numeric\",\n",
    "          \"value_type\": \"int32\"\n",
    "        },\n",
    "        \"Probability\": {\n",
    "          \"field_type\": \"numeric\",\n",
    "          \"value_type\": \"float32\"\n",
    "        }   \n",
    "      }\n",
    "    }\n",
    "  }\n",
    "}"
   ]
  },
  {
   "cell_type": "code",
   "execution_count": 3,
   "id": "9094591a-3e58-4789-9926-b2d8f039a7bc",
   "metadata": {},
   "outputs": [
    {
     "name": "stdout",
     "output_type": "stream",
     "text": [
      "read_file_using_fast_csv_reader: 1 chunks, 147269 accumulated_written_rows parsed in 1.1086580753326416s\n",
      "completed in 1.1138238906860352 seconds\n",
      "Total time 1.1140117645263672s\n"
     ]
    }
   ],
   "source": [
    "from exetera.io import importer\n",
    "from exetera.core import session\n",
    "from datetime import datetime, timezone\n",
    "\n",
    "with session.Session() as s:\n",
    "    importer.import_with_schema(\n",
    "        session=s,\n",
    "        timestamp=str(datetime.now(timezone.utc)),\n",
    "        dataset_name=\"NameGender\",\n",
    "        dest_file_name=\"name_gender_dataset.hdf5\",\n",
    "        schema_file=\"name_gender_dataset_schema.json\",\n",
    "        files={\"name_gender_dataset\": \"name_gender_dataset.csv\"},\n",
    "        overwrite=True,\n",
    "    )"
   ]
  },
  {
   "cell_type": "code",
   "execution_count": 40,
   "id": "6c227686-eb2e-4d0d-b6af-ef181c38b73e",
   "metadata": {},
   "outputs": [
    {
     "name": "stdout",
     "output_type": "stream",
     "text": [
      "['\\ufeffName', 'Gender', 'Count', 'Probability']\n"
     ]
    }
   ],
   "source": [
    "import csv \n",
    "import unicodecsv\n",
    "\n",
    "\n",
    "with open(\"name_gender_dataset.csv\",\"rb\") as o:\n",
    "    d=o.read(5)\n",
    "#     print(len(d),len(d.encode()),d.encode())\n",
    "    o.seek(0)\n",
    "    \n",
    "    csvf = unicodecsv.DictReader(o, delimiter=',', quotechar='\"',)\n",
    "    csvf_fieldnames = [k.strip() for k in csvf.fieldnames]\n",
    "    print(csvf_fieldnames)"
   ]
  },
  {
   "cell_type": "code",
   "execution_count": 60,
   "id": "d6562eec-1a52-4a61-9b7a-0f1d80ff6c99",
   "metadata": {},
   "outputs": [
    {
     "name": "stdout",
     "output_type": "stream",
     "text": [
      "['Name', 'Gender', 'Count', 'Probability']\n",
      "['Name', 'Gender', 'Count', 'Probability']\n",
      "['Name', 'Gender', 'Count', 'Probability']\n",
      "['Name', 'Gender', 'Count', 'Probability']\n"
     ]
    }
   ],
   "source": [
    "\n",
    "dat=b\"\\xef\\xbb\\xbfName,Gender,Count,Probability\\r\\nJames,M,5304407,0.014516787\"\n",
    "\n",
    "# with open(\"test_bom.csv\",\"bw\") as o:\n",
    "#     o.write(dat)\n",
    "    \n",
    "# with open(\"test_nobom.csv\",\"bw\") as o:\n",
    "#     o.write(dat[3:])\n",
    "    \n",
    "with open(\"test_bom_utf16.csv\",\"bw\") as o:\n",
    "    o.write(dat[3:].decode().encode(\"utf-16\"))\n",
    "    \n",
    "with open(\"test_bom_utf32.csv\",\"bw\") as o:\n",
    "    o.write(dat[3:].decode().encode(\"utf-32\"))\n",
    "    \n",
    "with open(\"test_nobom_utf16.csv\",\"bw\") as o:\n",
    "    o.write(dat[3:].decode().encode(\"utf-16\")[2:])\n",
    "    \n",
    "with open(\"test_nobom_utf32.csv\",\"bw\") as o:\n",
    "    o.write(dat[3:].decode().encode(\"utf-32\")[4:])\n",
    "    \n",
    "with open(\"test_nobom.csv\",\"r\",encoding=\"utf-8-sig\") as o:\n",
    "    csvf = csv.DictReader(o, delimiter=',', quotechar='\"',)\n",
    "    csvf_fieldnames = [k.strip() for k in csvf.fieldnames]\n",
    "    print(csvf_fieldnames)\n",
    "    \n",
    "with open(\"test_bom.csv\",\"r\",encoding=\"utf-8-sig\") as o:\n",
    "    csvf = csv.DictReader(o, delimiter=',', quotechar='\"',)\n",
    "    csvf_fieldnames = [k.strip() for k in csvf.fieldnames]\n",
    "    print(csvf_fieldnames)\n",
    "    \n",
    "with open(\"test_bom_utf16.csv\",\"r\",encoding=\"utf-16\") as o:\n",
    "    csvf = csv.DictReader(o, delimiter=',', quotechar='\"',)\n",
    "    csvf_fieldnames = [k.strip() for k in csvf.fieldnames]\n",
    "    print(csvf_fieldnames)\n",
    "    \n",
    "with open(\"test_bom_utf32.csv\",\"r\",encoding=\"utf-32\") as o:\n",
    "    csvf = csv.DictReader(o, delimiter=',', quotechar='\"',)\n",
    "    csvf_fieldnames = [k.strip() for k in csvf.fieldnames]\n",
    "    print(csvf_fieldnames)\n",
    "    \n",
    "# with open(\"test_nobom_utf16.csv\",\"r\",encoding=\"utf-16\") as o:\n",
    "#     csvf = csv.DictReader(o, delimiter=',', quotechar='\"',)\n",
    "#     csvf_fieldnames = [k.strip() for k in csvf.fieldnames]\n",
    "#     print(csvf_fieldnames)\n",
    "    \n",
    "# with open(\"test_nobom_utf32.csv\",\"r\",encoding=\"utf-32\") as o:\n",
    "#     csvf = csv.DictReader(o, delimiter=',', quotechar='\"',)\n",
    "#     csvf_fieldnames = [k.strip() for k in csvf.fieldnames]\n",
    "#     print(csvf_fieldnames)\n"
   ]
  },
  {
   "cell_type": "code",
   "execution_count": 62,
   "id": "ed95f777-7a1c-4162-90a0-74ede443a3aa",
   "metadata": {},
   "outputs": [
    {
     "name": "stdout",
     "output_type": "stream",
     "text": [
      "test_bom.csv utf-8-sig\n",
      "test_nobom_utf32.csv utf-8\n",
      "test_bom_utf32.csv utf-32\n",
      "test_nobom.csv utf-8\n",
      "test_bom_utf16.csv utf-16\n",
      "test_nobom_utf16.csv utf-8\n"
     ]
    }
   ],
   "source": [
    "from codecs import BOM_UTF8, BOM_UTF16_BE, BOM_UTF16_LE, BOM_UTF32_BE, BOM_UTF32_LE\n",
    "from glob import glob\n",
    "def guess_encoding(filename):\n",
    "    with open(filename,\"rb\") as o:\n",
    "        dat=o.read(4)\n",
    "        \n",
    "    if BOM_UTF32_BE in dat or BOM_UTF32_LE in dat:\n",
    "        return \"utf-32\"\n",
    "    elif BOM_UTF16_BE in dat or BOM_UTF16_LE in dat:\n",
    "        return \"utf-16\"\n",
    "    elif BOM_UTF8 in dat:\n",
    "        return \"utf-8-sig\"\n",
    "    else:\n",
    "        return \"utf-8\"\n",
    "    \n",
    "\n",
    "for fn in glob(\"test_*.csv\"):\n",
    "    print(fn,guess_encoding(fn))"
   ]
  }
 ],
 "metadata": {
  "kernelspec": {
   "display_name": "Python [conda env:root] *",
   "language": "python",
   "name": "conda-root-py"
  },
  "language_info": {
   "codemirror_mode": {
    "name": "ipython",
    "version": 3
   },
   "file_extension": ".py",
   "mimetype": "text/x-python",
   "name": "python",
   "nbconvert_exporter": "python",
   "pygments_lexer": "ipython3",
   "version": "3.7.7"
  }
 },
 "nbformat": 4,
 "nbformat_minor": 5
}
