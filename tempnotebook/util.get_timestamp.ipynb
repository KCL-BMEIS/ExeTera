{
 "cells": [
  {
   "cell_type": "markdown",
   "metadata": {},
   "source": [
    "Alternative datetime.timestamp() that works on a wider range on Windows"
   ]
  },
  {
   "cell_type": "code",
   "execution_count": 1,
   "metadata": {},
   "outputs": [],
   "source": [
    "# the get_timestamp method that aim to be used as a alternative of datetime.timestamp\n",
    "from datetime import datetime\n",
    "import pytz\n",
    "def convert_timestamp(date):\n",
    "    if not isinstance(date, datetime):\n",
    "        return \"\"\n",
    "    anchor = pytz.timezone('UTC').localize(datetime(1970, 1, 2))  # timestamp 86400\n",
    "    ts = (pytz.timezone('Europe/London').localize(date)-anchor).total_seconds()+86400\n",
    "    if date.year >= 2038 and date.month >=4 and date.month <= 10:\n",
    "        ts -= 3600\n",
    "    return ts"
   ]
  },
  {
   "cell_type": "code",
   "execution_count": 8,
   "metadata": {},
   "outputs": [
    {
     "name": "stdout",
     "output_type": "stream",
     "text": [
      "Can not convert starting from  1900 1\n",
      "Convert_timestamp method is wrong from  1970 2\n",
      "Convert_timestamp method is correct from  1970 4\n",
      "Convert_timestamp method is wrong from  1970 11\n",
      "Convert_timestamp method is correct from  1971 4\n",
      "Till the end 2100 12\n"
     ]
    }
   ],
   "source": [
    "# benchmark, test the method against datetime.datetime 1900.1.1 to 2100.1.1\n",
    "flag = ''\n",
    "for year in range(1900, 2101):\n",
    "    for month in range(1, 13):\n",
    "        d = datetime(year, month, 1)\n",
    "        try:\n",
    "            ts = d.timestamp()\n",
    "        except OSError:\n",
    "            if flag != 'error':\n",
    "                flag = 'error'\n",
    "                print(\"Can not convert starting from \", year, month)\n",
    "            \n",
    "        else:\n",
    "            ts2 = convert_timestamp(d)\n",
    "            if ts - ts2 != 0:\n",
    "                if flag != 'wrong':\n",
    "                    flag = 'wrong'\n",
    "                    print('Convert_timestamp method is wrong from ', year, month)\n",
    "            else:\n",
    "                if flag != 'correct':\n",
    "                    flag = 'correct'\n",
    "                    print('Convert_timestamp method is correct from ', year, month)\n",
    "print('Till the end 2100 12')\n",
    "            \n",
    "            \n",
    "        "
   ]
  },
  {
   "cell_type": "markdown",
   "metadata": {},
   "source": [
    "Output of the last cell on Windows:\n",
    "=====\n",
    "Can not convert starting from  1900 1\n",
    "\n",
    "Convert_timestamp method is wrong from  1970 2\n",
    "\n",
    "Convert_timestamp method is correct from  1970 4\n",
    "\n",
    "Convert_timestamp method is wrong from  1970 11\n",
    "\n",
    "Convert_timestamp method is correct from  1971 4\n",
    "\n",
    "Till the end 2100 12"
   ]
  },
  {
   "cell_type": "markdown",
   "metadata": {},
   "source": [
    "Output of the last cell on Linux:\n",
    "=====\n",
    "\n",
    "Convert_timestamp method is wrong from  1900 1\n",
    "\n",
    "Convert_timestamp method is correct from  1902 1\n",
    "\n",
    "Till the end 2100 12\n"
   ]
  },
  {
   "cell_type": "markdown",
   "metadata": {},
   "source": [
    "Output of the last cell on MacOS:\n",
    "=====\n",
    "Convert_timestamp method is wrong from 1900 1\n",
    "\n",
    "Convert_timestamp method is correct from 1902 1\n",
    "\n",
    "Till the end 2100 12"
   ]
  },
  {
   "cell_type": "code",
   "execution_count": null,
   "metadata": {},
   "outputs": [],
   "source": [
    "# the final get_timestamp method proposed in exetera.util, try to use datetime.timestamp first\n",
    "def get_timestamp(date):\n",
    "    \"\"\"\n",
    "    This is an alternative of datetime.timestamp() as such function will raise an OSError on windoes if year is less\n",
    "    than 1970 or greater than 3002.\n",
    "\n",
    "    :param date: The datetime instance to convert.\n",
    "\n",
    "    :return: The timestamp of the date.\n",
    "    \"\"\"\n",
    "    if not isinstance(date, datetime):\n",
    "        raise TypeError(\"Please use a datetime variable as argument.\")\n",
    "    try:\n",
    "        ts = date.timestamp()\n",
    "        return ts\n",
    "    except OSError:\n",
    "        import pytz\n",
    "        anchor = pytz.timezone('UTC').localize(datetime(1970, 1, 2))  # timestamp 86400\n",
    "        ts = (pytz.timezone('Europe/London').localize(date) - anchor).total_seconds() + 86400\n",
    "        if date.year >= 2038 and 4 <= date.month <= 10:\n",
    "            ts -= 3600\n",
    "        return ts"
   ]
  }
 ],
 "metadata": {
  "kernelspec": {
   "display_name": "Python 3",
   "language": "python",
   "name": "python3"
  },
  "language_info": {
   "codemirror_mode": {
    "name": "ipython",
    "version": 3
   },
   "file_extension": ".py",
   "mimetype": "text/x-python",
   "name": "python",
   "nbconvert_exporter": "python",
   "pygments_lexer": "ipython3",
   "version": "3.7.4"
  }
 },
 "nbformat": 4,
 "nbformat_minor": 2
}
